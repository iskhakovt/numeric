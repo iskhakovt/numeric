{
 "cells": [
  {
   "cell_type": "markdown",
   "metadata": {},
   "source": [
    "# Решение СЛАУ"
   ]
  },
  {
   "cell_type": "code",
   "execution_count": 18,
   "metadata": {
    "collapsed": true
   },
   "outputs": [],
   "source": [
    "%matplotlib inline\n",
    "\n",
    "import matplotlib\n",
    "import math\n",
    "import numpy as np\n",
    "import pandas as pd\n",
    "import matplotlib.pyplot as plt"
   ]
  },
  {
   "cell_type": "code",
   "execution_count": 4,
   "metadata": {
    "collapsed": true
   },
   "outputs": [],
   "source": [
    "import sys\n",
    "sys.path.append('../numeric-core')\n",
    "import numeric"
   ]
  },
  {
   "cell_type": "markdown",
   "metadata": {},
   "source": [
    "СЛАУ решаем методом Гаусса:\n",
    "\n",
    "$$Ax = b$$\n",
    "\n",
    "* На $i$-м шаге алгоритма:\n",
    "  1. Находится строка $A$, в которой в $i$-м столбце стоит не ноль\n",
    "  2. Эта строка меняется с $i$-й\n",
    "  3. Из всех следующих строк $A$ (начиная с $i+1$-й) вычитается $i$-я строка, домноженная на такой коэффициент, что в $i$-м столбце получится ноль\n",
    "  4. Также из соответствующего значения $b$ вычитается $i$-е значение $b$, домноженное на тот же коэффициент\n",
    "\n",
    "* Количество шагов равно количеству столбцов $A$\n",
    "* Если количество столбцов $A$ меньше количества строк $A$, решений бесконечно много\n",
    "* Если на очередном шаге не нашлось строки $A$ с ненулевым значением в столбце, решений бесконечно много\n",
    "* Если для какой-нибудь из оставшихся строк (*кол-во столбцов $A$* $+1, \\ldots,$ *кол-во строк $A$*) соответствующее значение $b$ не равно нулю, решений нет\n",
    "\n",
    "Далее по диагональной матрице $A$ и вектору $b$ легко получается решение:\n",
    "\n",
    "* На $i$-м шаге алгоритма ($i$ уменьшается) вычислим $x_i$, зная все $x_j, j > i$, так как в $i$-й строке $A$ все элементы до $i$-го нулевые"
   ]
  },
  {
   "cell_type": "code",
   "execution_count": 29,
   "metadata": {
    "collapsed": true
   },
   "outputs": [],
   "source": [
    "matrices = [\n",
    "    [[1., 2., 3.],[2.0001, 3.999, 6.], [15., 3., 6.]],\n",
    "    [[1., 1/2, 1/3], [1/2, 1/3, 1/4], [1/3, 1/4, 1/5]],\n",
    "    [[np.power(10., 6), 2.], [np.power(10., 13), 2.]]\n",
    "]"
   ]
  },
  {
   "cell_type": "code",
   "execution_count": 81,
   "metadata": {
    "collapsed": false
   },
   "outputs": [
    {
     "data": {
      "text/html": [
       "\n",
       "        <style  type=\"text/css\" >\n",
       "        \n",
       "        \n",
       "        </style>\n",
       "\n",
       "        <table id=\"T_9b75e152_af2d_11e6_a459_4c0f6ee0b0fd\" None>\n",
       "        \n",
       "\n",
       "        <thead>\n",
       "            \n",
       "            <tr>\n",
       "                \n",
       "                <th class=\"blank\">\n",
       "                \n",
       "                <th class=\"col_heading level0 col0\">Determinant\n",
       "                \n",
       "                <th class=\"col_heading level0 col1\">Norm\n",
       "                \n",
       "                <th class=\"col_heading level0 col2\">Condition number\n",
       "                \n",
       "            </tr>\n",
       "            \n",
       "        </thead>\n",
       "        <tbody>\n",
       "            \n",
       "            <tr>\n",
       "                \n",
       "                <th id=\"T_9b75e152_af2d_11e6_a459_4c0f6ee0b0fd\" class=\"row_heading level2 row0\">\n",
       "                    0\n",
       "                \n",
       "                <td id=\"T_9b75e152_af2d_11e6_a459_4c0f6ee0b0fdrow0_col0\" class=\"data row0 col0\">\n",
       "                    0.0387\n",
       "                \n",
       "                <td id=\"T_9b75e152_af2d_11e6_a459_4c0f6ee0b0fdrow0_col1\" class=\"data row0 col1\">\n",
       "                    0.000462963\n",
       "                \n",
       "                <td id=\"T_9b75e152_af2d_11e6_a459_4c0f6ee0b0fdrow0_col2\" class=\"data row0 col2\">\n",
       "                    -2e+13\n",
       "                \n",
       "            </tr>\n",
       "            \n",
       "            <tr>\n",
       "                \n",
       "                <th id=\"T_9b75e152_af2d_11e6_a459_4c0f6ee0b0fd\" class=\"row_heading level2 row1\">\n",
       "                    1\n",
       "                \n",
       "                <td id=\"T_9b75e152_af2d_11e6_a459_4c0f6ee0b0fdrow1_col0\" class=\"data row1 col0\">\n",
       "                    18.4389\n",
       "                \n",
       "                <td id=\"T_9b75e152_af2d_11e6_a459_4c0f6ee0b0fdrow1_col1\" class=\"data row1 col1\">\n",
       "                    1.41362\n",
       "                \n",
       "                <td id=\"T_9b75e152_af2d_11e6_a459_4c0f6ee0b0fdrow1_col2\" class=\"data row1 col2\">\n",
       "                    1e+13\n",
       "                \n",
       "            </tr>\n",
       "            \n",
       "            <tr>\n",
       "                \n",
       "                <th id=\"T_9b75e152_af2d_11e6_a459_4c0f6ee0b0fd\" class=\"row_heading level2 row2\">\n",
       "                    2\n",
       "                \n",
       "                <td id=\"T_9b75e152_af2d_11e6_a459_4c0f6ee0b0fdrow2_col0\" class=\"data row2 col0\">\n",
       "                    47773.9\n",
       "                \n",
       "                <td id=\"T_9b75e152_af2d_11e6_a459_4c0f6ee0b0fdrow2_col1\" class=\"data row2 col1\">\n",
       "                    524.057\n",
       "                \n",
       "                <td id=\"T_9b75e152_af2d_11e6_a459_4c0f6ee0b0fdrow2_col2\" class=\"data row2 col2\">\n",
       "                    5e+12\n",
       "                \n",
       "            </tr>\n",
       "            \n",
       "        </tbody>\n",
       "        </table>\n",
       "        "
      ],
      "text/plain": [
       "<pandas.formats.style.Styler at 0x7fe6b4a57ef0>"
      ]
     },
     "execution_count": 81,
     "metadata": {},
     "output_type": "execute_result"
    }
   ],
   "source": [
    "df = pd.DataFrame([\n",
    "    [np.linalg.det(matrix) for matrix in matrices],\n",
    "    [np.linalg.norm(matrix) for matrix in matrices],\n",
    "    [np.linalg.cond(matrix) for matrix in matrices],\n",
    "], columns=['Determinant', 'Norm', 'Condition number'])\n",
    "\n",
    "df.style"
   ]
  },
  {
   "cell_type": "code",
   "execution_count": 91,
   "metadata": {
    "collapsed": false
   },
   "outputs": [
    {
     "data": {
      "text/html": [
       "\n",
       "        <style  type=\"text/css\" >\n",
       "        \n",
       "        \n",
       "        </style>\n",
       "\n",
       "        <table id=\"T_f2749f48_af2d_11e6_a459_4c0f6ee0b0fd\" None>\n",
       "        \n",
       "\n",
       "        <thead>\n",
       "            \n",
       "            <tr>\n",
       "                \n",
       "                <th class=\"blank\">\n",
       "                \n",
       "                <th class=\"col_heading level0 col0\">Determinant\n",
       "                \n",
       "                <th class=\"col_heading level0 col1\">Norm\n",
       "                \n",
       "                <th class=\"col_heading level0 col2\">Condition number\n",
       "                \n",
       "                <th class=\"col_heading level0 col3\">Solution error norm\n",
       "                \n",
       "            </tr>\n",
       "            \n",
       "        </thead>\n",
       "        <tbody>\n",
       "            \n",
       "            <tr>\n",
       "                \n",
       "                <th id=\"T_f2749f48_af2d_11e6_a459_4c0f6ee0b0fd\" class=\"row_heading level3 row0\">\n",
       "                    0\n",
       "                \n",
       "                <td id=\"T_f2749f48_af2d_11e6_a459_4c0f6ee0b0fdrow0_col0\" class=\"data row0 col0\">\n",
       "                    0.0387\n",
       "                \n",
       "                <td id=\"T_f2749f48_af2d_11e6_a459_4c0f6ee0b0fdrow0_col1\" class=\"data row0 col1\">\n",
       "                    0.000462963\n",
       "                \n",
       "                <td id=\"T_f2749f48_af2d_11e6_a459_4c0f6ee0b0fdrow0_col2\" class=\"data row0 col2\">\n",
       "                    -2e+13\n",
       "                \n",
       "                <td id=\"T_f2749f48_af2d_11e6_a459_4c0f6ee0b0fdrow0_col3\" class=\"data row0 col3\">\n",
       "                    4.54747e-13\n",
       "                \n",
       "            </tr>\n",
       "            \n",
       "            <tr>\n",
       "                \n",
       "                <th id=\"T_f2749f48_af2d_11e6_a459_4c0f6ee0b0fd\" class=\"row_heading level3 row1\">\n",
       "                    1\n",
       "                \n",
       "                <td id=\"T_f2749f48_af2d_11e6_a459_4c0f6ee0b0fdrow1_col0\" class=\"data row1 col0\">\n",
       "                    18.4389\n",
       "                \n",
       "                <td id=\"T_f2749f48_af2d_11e6_a459_4c0f6ee0b0fdrow1_col1\" class=\"data row1 col1\">\n",
       "                    1.41362\n",
       "                \n",
       "                <td id=\"T_f2749f48_af2d_11e6_a459_4c0f6ee0b0fdrow1_col2\" class=\"data row1 col2\">\n",
       "                    1e+13\n",
       "                \n",
       "                <td id=\"T_f2749f48_af2d_11e6_a459_4c0f6ee0b0fdrow1_col3\" class=\"data row1 col3\">\n",
       "                    8.88178e-16\n",
       "                \n",
       "            </tr>\n",
       "            \n",
       "            <tr>\n",
       "                \n",
       "                <th id=\"T_f2749f48_af2d_11e6_a459_4c0f6ee0b0fd\" class=\"row_heading level3 row2\">\n",
       "                    2\n",
       "                \n",
       "                <td id=\"T_f2749f48_af2d_11e6_a459_4c0f6ee0b0fdrow2_col0\" class=\"data row2 col0\">\n",
       "                    47773.9\n",
       "                \n",
       "                <td id=\"T_f2749f48_af2d_11e6_a459_4c0f6ee0b0fdrow2_col1\" class=\"data row2 col1\">\n",
       "                    524.057\n",
       "                \n",
       "                <td id=\"T_f2749f48_af2d_11e6_a459_4c0f6ee0b0fdrow2_col2\" class=\"data row2 col2\">\n",
       "                    5e+12\n",
       "                \n",
       "                <td id=\"T_f2749f48_af2d_11e6_a459_4c0f6ee0b0fdrow2_col3\" class=\"data row2 col3\">\n",
       "                    0\n",
       "                \n",
       "            </tr>\n",
       "            \n",
       "        </tbody>\n",
       "        </table>\n",
       "        "
      ],
      "text/plain": [
       "<pandas.formats.style.Styler at 0x7fe6b4a575c0>"
      ]
     },
     "execution_count": 91,
     "metadata": {},
     "output_type": "execute_result"
    }
   ],
   "source": [
    "def solution_norm(A, b):\n",
    "    x = numeric.gaussian_elimination(A.tolist(), b.tolist())\n",
    "    return np.linalg.norm(np.dot(A, np.array(x)) - b)\n",
    "\n",
    "\n",
    "error_norms = pd.DataFrame(\n",
    "    [solution_norm(np.array(matrix), np.ones(len(matrix))) for matrix in matrices],\n",
    "    columns=['Solution error norm']\n",
    ")\n",
    "\n",
    "pd.concat([df, error_norms], axis=1).style"
   ]
  }
 ],
 "metadata": {
  "anaconda-cloud": {},
  "kernelspec": {
   "display_name": "Python [conda root]",
   "language": "python",
   "name": "conda-root-py"
  },
  "language_info": {
   "codemirror_mode": {
    "name": "ipython",
    "version": 3
   },
   "file_extension": ".py",
   "mimetype": "text/x-python",
   "name": "python",
   "nbconvert_exporter": "python",
   "pygments_lexer": "ipython3",
   "version": "3.5.2"
  }
 },
 "nbformat": 4,
 "nbformat_minor": 1
}
